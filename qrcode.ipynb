{
 "cells": [
  {
   "cell_type": "code",
   "execution_count": 6,
   "id": "e59fc458-2029-418a-b215-ddd9a6a94cdd",
   "metadata": {},
   "outputs": [
    {
     "name": "stdout",
     "output_type": "stream",
     "text": [
      "Requirement already satisfied: qrcode[pil] in c:\\users\\katya\\anaconda3\\lib\\site-packages (7.4.2)\n",
      "Requirement already satisfied: typing-extensions in c:\\users\\katya\\anaconda3\\lib\\site-packages (from qrcode[pil]) (4.11.0)\n",
      "Requirement already satisfied: pypng in c:\\users\\katya\\anaconda3\\lib\\site-packages (from qrcode[pil]) (0.20220715.0)\n",
      "Requirement already satisfied: colorama in c:\\users\\katya\\appdata\\roaming\\python\\python312\\site-packages (from qrcode[pil]) (0.4.6)\n",
      "Requirement already satisfied: pillow>=9.1.0 in c:\\users\\katya\\anaconda3\\lib\\site-packages (from qrcode[pil]) (10.3.0)\n",
      "Note: you may need to restart the kernel to use updated packages.\n"
     ]
    }
   ],
   "source": [
    "pip install qrcode[pil]\n"
   ]
  },
  {
   "cell_type": "code",
   "execution_count": 10,
   "id": "c1a5f16c-07a3-45ae-becf-979e7bdd5a4d",
   "metadata": {},
   "outputs": [],
   "source": [
    "import qrcode as qr"
   ]
  },
  {
   "cell_type": "code",
   "execution_count": 16,
   "id": "64469770-b952-416e-883a-de9b9d3436b4",
   "metadata": {},
   "outputs": [],
   "source": [
    "img = qr.make(\"https://youtu.be/WwjHonzRd4E?si=BPm8Fl9O45Tzapxh\")\n",
    "img.save(\"airpods_video.png\")\n"
   ]
  },
  {
   "cell_type": "code",
   "execution_count": 18,
   "id": "b92975b2-7773-43f6-9b7a-db427e60d65d",
   "metadata": {},
   "outputs": [],
   "source": [
    "# for simple qr code\n",
    "import qrcode\n",
    "from PIL import Image\n",
    "qr = qrcode.QRCode(version = 1,\n",
    "                   error_correction = qrcode.constants.ERROR_CORRECT_H,\n",
    "                   box_size = 10 , border = 4 , )"
   ]
  },
  {
   "cell_type": "code",
   "execution_count": 20,
   "id": "a0276757-7908-4f52-abd6-2322ac21b812",
   "metadata": {},
   "outputs": [],
   "source": [
    "qr.add_data(\"https://www.instagram.com/stories/_divyam__31/\")"
   ]
  },
  {
   "cell_type": "code",
   "execution_count": 22,
   "id": "7a925baf-0637-47da-9309-ff38fee1472e",
   "metadata": {},
   "outputs": [],
   "source": [
    "qr.make(fit = True)\n",
    "img = qr.make_image(fill_color = \"red\" , back_color=\"blue\")\n",
    "img.save(\"divyam.png\")"
   ]
  },
  {
   "cell_type": "code",
   "execution_count": 24,
   "id": "2800f652-d53d-4ab7-a5c4-a42c902fe5ce",
   "metadata": {},
   "outputs": [],
   "source": [
    "# for formattted qr code\n",
    "import qrcode\n",
    "from PIL import Image\n",
    "qr = qrcode.QRCode(version = 1,\n",
    "                   error_correction = qrcode.constants.ERROR_CORRECT_H,\n",
    "                   box_size = 20 , border = 4 , )\n"
   ]
  },
  {
   "cell_type": "code",
   "execution_count": null,
   "id": "8f8b56e8-7190-4a80-a34b-9a0e405fbb94",
   "metadata": {},
   "outputs": [],
   "source": [
    "#en"
   ]
  }
 ],
 "metadata": {
  "kernelspec": {
   "display_name": "Python 3 (ipykernel)",
   "language": "python",
   "name": "python3"
  },
  "language_info": {
   "codemirror_mode": {
    "name": "ipython",
    "version": 3
   },
   "file_extension": ".py",
   "mimetype": "text/x-python",
   "name": "python",
   "nbconvert_exporter": "python",
   "pygments_lexer": "ipython3",
   "version": "3.12.4"
  }
 },
 "nbformat": 4,
 "nbformat_minor": 5
}
